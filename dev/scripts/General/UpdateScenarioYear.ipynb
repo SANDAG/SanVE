{
 "cells": [
  {
   "cell_type": "raw",
   "metadata": {},
   "source": [
    "#This ipynb is used to update all the input files based on new geo diffinition (Azone, Bzone, and Marea). An \\inputs folder with all input files (can be copied from \\RVRSPM\\ must be created before running this module. \n",
    "Note: Czone(all 'NA') and Marea is processed by Jeff in another Python script.\n",
    "This module might not be needed if the input files is created from scratch, e.g. bzone_parking.csv from Module2_7-.ipynb"
   ]
  },
  {
   "cell_type": "code",
   "execution_count": 1,
   "metadata": {},
   "outputs": [],
   "source": [
    "#Initialization and get all file names under a directory\n",
    "import os\n",
    "from os import listdir\n",
    "from os.path import isfile, join\n",
    "import matplotlib.pyplot as plt\n",
    "import pandas as pd\n",
    "import yaml\n",
    "_join = os.path.join\n",
    "\n",
    "CONFIG = r'T:/ABM/ABM_FY21/Sketch_Planning/VisionEval/Model/Update_Automations/settings.yml'\n",
    "with open(CONFIG) as cff:\n",
    "    config =yaml.safe_load(cff)\n",
    "target_path = ''.join(config['target_path'])\n",
    "scenpath = ''.join(config['scenpath'])\n",
    "scenario_list = config['scenario_list']\n",
    "year_List = [x[0] for x in scenario_list]\n",
    "\n",
    "mypath = os.path.normpath(os.path.join(target_path, *([\"..\"] * 1), r'VERSPM'))\n",
    "onlyfiles = [f for f in listdir(join(mypath, 'inputs')) if isfile(join(mypath, 'inputs',f))]"
   ]
  },
  {
   "cell_type": "code",
   "execution_count": 2,
   "metadata": {},
   "outputs": [],
   "source": [
    "# update geospatial information for all input files\n",
    "df_template = pd.read_csv(join(target_path, 'defs', 'geo.csv'))"
   ]
  },
  {
   "cell_type": "markdown",
   "metadata": {},
   "source": [
    "#update geospatial information for all input files"
   ]
  },
  {
   "cell_type": "code",
   "execution_count": 3,
   "metadata": {},
   "outputs": [],
   "source": [
    "# Azone\n",
    "new_List = df_template['Azone'].unique().tolist()\n",
    "new_List.sort()\n",
    "azone_List = [new_List[i//2] for i in range(len(new_List)*len(year_List))]\n",
    "year_npList = year_List * len(new_List)"
   ]
  },
  {
   "cell_type": "code",
   "execution_count": 4,
   "metadata": {},
   "outputs": [],
   "source": [
    "# Bzone\n",
    "b_listYear = year_List * len(df_template)\n",
    "b_listGeo = df_template['Bzone'].tolist() * len(year_List)\n",
    "b_listYear.sort()"
   ]
  },
  {
   "cell_type": "code",
   "execution_count": 5,
   "metadata": {},
   "outputs": [],
   "source": [
    "# Marea\n",
    "m_list = df_template['Marea'].unique().tolist()\n",
    "m_list = [x for x in m_list if pd.isnull(x) == False]\n",
    "try:\n",
    "    m_list.remove('None')\n",
    "except:\n",
    "    pass\n",
    "m_listYear = year_List * len(m_list)\n",
    "m_list_final = m_list * len(year_List)\n",
    "m_list_final.sort()\n",
    "m_list_final2 = list(set(m_list_final))"
   ]
  },
  {
   "cell_type": "code",
   "execution_count": 7,
   "metadata": {},
   "outputs": [],
   "source": [
    "for file in onlyfiles:\n",
    "    df_file = pd.read_csv(join(mypath, 'inputs', file))\n",
    "    head_List = list(df_file.columns.values)\n",
    "    df_new = pd.DataFrame({}, columns = head_List, index=None)    \n",
    "    if 'azone' in file:\n",
    "        df_new['Geo'] = azone_List \n",
    "        df_new['Year'] = year_npList  \n",
    "        df_new = df_new.sort_values([\"Year\", \"Geo\"], ascending = (True, True))\n",
    "        df_new.to_csv(join(target_path, 'inputs', file),index=False,)\n",
    "    elif 'bzone' in file:\n",
    "        df_new['Geo'] = b_listGeo\n",
    "        df_new['Year'] = b_listYear\n",
    "        df_new.to_csv(join(target_path, 'inputs', file),index=False,)\n",
    "    elif 'region' in file:\n",
    "        if 'base' not in file:\n",
    "            df_new['Year'] = year_List\n",
    "        df_new.to_csv(join(target_path, 'inputs', file),index=False,) \n",
    "    elif 'marea' in file:\n",
    "        # so far, the Geo column is blank. Wait until when marea is defined.\n",
    "        if 'Year' in list(df_new):\n",
    "            df_new['Year'] = m_listYear\n",
    "            df_new['Geo'] = m_list_final    \n",
    "        else:\n",
    "            df_new['Geo'] = m_list_final2   \n",
    "        df_new.to_csv(join(target_path, 'inputs', file),index=False,)   "
   ]
  },
  {
   "cell_type": "code",
   "execution_count": null,
   "metadata": {},
   "outputs": [],
   "source": []
  }
 ],
 "metadata": {
  "kernelspec": {
   "display_name": "Python 3",
   "language": "python",
   "name": "python3"
  },
  "language_info": {
   "codemirror_mode": {
    "name": "ipython",
    "version": 3
   },
   "file_extension": ".py",
   "mimetype": "text/x-python",
   "name": "python",
   "nbconvert_exporter": "python",
   "pygments_lexer": "ipython3",
   "version": "3.8.5"
  }
 },
 "nbformat": 4,
 "nbformat_minor": 4
}
