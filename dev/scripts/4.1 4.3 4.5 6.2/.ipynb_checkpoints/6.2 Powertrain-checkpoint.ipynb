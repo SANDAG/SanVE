{
 "cells": [
  {
   "cell_type": "code",
   "execution_count": 1,
   "metadata": {},
   "outputs": [],
   "source": [
    "import os\n",
    "import yaml\n",
    "import pandas as pd\n",
    "import numpy as np\n",
    "import pyodbc\n",
    "from datetime import date\n",
    "\n",
    "_join = os.path.join\n",
    "\n",
    "CONFIG = r'T:/ABM/ABM_FY21/Sketch_Planning/VisionEval/Model/Update_Automations/settings.yml'\n",
    "with open(CONFIG) as cff:\n",
    "    config =yaml.safe_load(cff)\n",
    "target_path = ''.join(config['target_path'])\n",
    "scenpath = ''.join(config['scenpath'])\n",
    "scenario_list = config['scenario_list']\n",
    "\n",
    "df_geo = pd.read_csv(_join(target_path, 'defs\\geo.csv'))\n",
    "df_geo = df_geo[['Azone', 'Bzone']]\n",
    "df_geo.rename(columns={'Bzone':'taz'}, inplace=True) \n",
    "ComSvcPow = config['ComSvcPow']\n",
    "PropChargingAvail = config['PropChargingAvail']\n",
    "carsvc_powertrain_prop = config['carsvc_powertrain_prop']"
   ]
  },
  {
   "cell_type": "code",
   "execution_count": 7,
   "metadata": {},
   "outputs": [
    {
     "name": "stderr",
     "output_type": "stream",
     "text": [
      "<ipython-input-7-99b416c97631>:7: FutureWarning: Indexing with multiple keys (implicitly converted to a tuple of keys) will be deprecated, use a list instead.\n",
      "  df_AzoneGro = df_mgra.groupby(['Azone'])['hh_sf', 'hh_mf', 'refueling_stations'].sum().reset_index()\n"
     ]
    }
   ],
   "source": [
    "base_year = scenario_list[0][0]\n",
    "i = 0\n",
    "for year, scenario in scenario_list:\n",
    "    df_mgra = pd.read_csv(_join(scenpath, scenario, 'input\\mgra13_based_input' + str(year) + '.csv'))\n",
    "    df_mgra = df_mgra[['taz','hh_sf','hh_mf','refueling_stations']]\n",
    "    df_mgra = df_mgra.merge(df_geo, on=['taz'], how = 'inner') \n",
    "    df_AzoneGro = df_mgra.groupby(['Azone'])['hh_sf', 'hh_mf', 'refueling_stations'].sum().reset_index()\n",
    "    max_value = df_AzoneGro['refueling_stations'].max()\n",
    "\n",
    "    df_AzoneGro['PropSFChargingAvail'] = PropChargingAvail [i][0]\n",
    "    df_AzoneGro['PropMFChargingAvail'] = PropChargingAvail [i][1]   \n",
    "    df_AzoneGro['PropGQChargingAvail'] = PropChargingAvail [i][2]\n",
    "    df_AzoneGro.insert(loc=1, column='Year', value = year)\n",
    "    df_AzoneGro.rename(columns={'Azone':'Geo'}, inplace=True)  \n",
    "    df_AzoneGro=df_AzoneGro.drop(['hh_sf', 'hh_mf', 'refueling_stations'], axis=1)    \n",
    "    \n",
    "    if year == base_year:\n",
    "            df_AzoneGro.to_csv(_join(target_path,r'inputs\\azone_charging_availability.csv'), mode='w', header = True, index = False)\n",
    "    else:\n",
    "        df_AzoneGro.to_csv(_join(target_path,r'inputs\\azone_charging_availability.csv'), mode='a', header = False, index = False)\n",
    "    i += 1    "
   ]
  },
  {
   "cell_type": "code",
   "execution_count": null,
   "metadata": {},
   "outputs": [],
   "source": []
  },
  {
   "cell_type": "markdown",
   "metadata": {},
   "source": [
    "# Abandoned, estimate PropMFChargingAvail from mgra refueling_stations\n",
    "base_year = scenario_list[0][0]\n",
    "for year, scenario in scenario_list:\n",
    "    df_mgra = pd.read_csv(_join(scenpath, scenario, 'input\\mgra13_based_input' + str(year) + '.csv'))\n",
    "    df_mgra = df_mgra[['taz','hh_sf','hh_mf','refueling_stations']]\n",
    "    df_mgra = df_mgra.merge(df_geo, on=['taz'], how = 'inner') \n",
    "    df_AzoneGro = df_mgra.groupby(['Azone'])['hh_sf', 'hh_mf', 'refueling_stations'].sum().reset_index()\n",
    "    max_value = df_AzoneGro['refueling_stations'].max()\n",
    "\n",
    "    df_AzoneGro['PropSFChargingAvail'] = 1\n",
    "    df_AzoneGro['PropMFChargingAvail'] = df_AzoneGro['refueling_stations']/max_value    \n",
    "    df_AzoneGro = df_AzoneGro.round({'PropSFChargingAvail': 1, 'PropMFChargingAvail': 1})\n",
    "    df_AzoneGro['PropGQChargingAvail'] = 0\n",
    "    df_AzoneGro.insert(loc=1, column='Year', value = year)\n",
    "    df_AzoneGro.rename(columns={'Azone':'Geo'}, inplace=True)  \n",
    "    df_AzoneGro=df_AzoneGro.drop(['hh_sf', 'hh_mf', 'refueling_stations'], axis=1)    \n",
    "    \n",
    "    if year == base_year:\n",
    "            df_AzoneGro.to_csv(_join(target_path,r'inputs\\azone_charging_availability.csv'), mode='w', header = True, index = False)\n",
    "    else:\n",
    "        df_AzoneGro.to_csv(_join(target_path,r'inputs\\azone_charging_availability.csv'), mode='a', header = False, index = False)    "
   ]
  }
 ],
 "metadata": {
  "kernelspec": {
   "display_name": "Python 3",
   "language": "python",
   "name": "python3"
  },
  "language_info": {
   "codemirror_mode": {
    "name": "ipython",
    "version": 3
   },
   "file_extension": ".py",
   "mimetype": "text/x-python",
   "name": "python",
   "nbconvert_exporter": "python",
   "pygments_lexer": "ipython3",
   "version": "3.8.10"
  }
 },
 "nbformat": 4,
 "nbformat_minor": 4
}
