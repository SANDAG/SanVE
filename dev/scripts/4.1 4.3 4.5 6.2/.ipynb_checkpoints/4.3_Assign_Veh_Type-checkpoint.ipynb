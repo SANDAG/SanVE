{
 "cells": [
  {
   "cell_type": "code",
   "execution_count": 1,
   "metadata": {},
   "outputs": [],
   "source": [
    "import os\n",
    "import yaml\n",
    "import pandas as pd\n",
    "import numpy as np\n",
    "\n",
    "_join = os.path.join\n",
    "\n",
    "CONFIG = r'T:/ABM/ABM_FY21/Sketch_Planning/VisionEval/Model/Update_Automations/settings.yml'\n",
    "with open(CONFIG) as cff:\n",
    "    config =yaml.safe_load(cff)\n",
    "target_path = ''.join(config['target_path'])\n",
    "scenpath = ''.join(config['scenpath'])\n",
    "scenario_list = config['scenario_list']"
   ]
  },
  {
   "cell_type": "code",
   "execution_count": 2,
   "metadata": {},
   "outputs": [],
   "source": [
    "toolpath = os.getcwd()\n",
    "df_htsveh = pd.read_csv(_join(toolpath, 'SDRTS_Vehicle_Data_20170731(2016HTS).csv'))\n",
    "df_htsveh['make'] = df_htsveh['make'].str.lower()\n",
    "df_htsveh['model'] = df_htsveh['model'].str.lower()\n",
    "df_htsveh['category'] = \"\"\n",
    "df_vehset = pd.read_csv(_join(toolpath, 'vehicle class dataset-lookup.csv'))\n",
    "df_vehset['Make'] = df_vehset['Make'].str.lower()\n",
    "df_vehset['Model'] = df_vehset['Model'].str.lower()\n",
    "df_except = pd.read_csv(_join(toolpath, 'exception.csv'))\n",
    "df_except['Model'] = df_except['Model'].str.lower()"
   ]
  },
  {
   "cell_type": "code",
   "execution_count": 3,
   "metadata": {
    "scrolled": true
   },
   "outputs": [
    {
     "name": "stderr",
     "output_type": "stream",
     "text": [
      "<ipython-input-3-c4a12723f067>:9: SettingWithCopyWarning: \n",
      "A value is trying to be set on a copy of a slice from a DataFrame\n",
      "\n",
      "See the caveats in the documentation: https://pandas.pydata.org/pandas-docs/stable/user_guide/indexing.html#returning-a-view-versus-a-copy\n",
      "  df_htsveh['category'][ind] = item\n",
      "<ipython-input-3-c4a12723f067>:15: SettingWithCopyWarning: \n",
      "A value is trying to be set on a copy of a slice from a DataFrame\n",
      "\n",
      "See the caveats in the documentation: https://pandas.pydata.org/pandas-docs/stable/user_guide/indexing.html#returning-a-view-versus-a-copy\n",
      "  df_htsveh['category'][ind] = df_select['Category3'][j]\n",
      "<ipython-input-3-c4a12723f067>:20: SettingWithCopyWarning: \n",
      "A value is trying to be set on a copy of a slice from a DataFrame\n",
      "\n",
      "See the caveats in the documentation: https://pandas.pydata.org/pandas-docs/stable/user_guide/indexing.html#returning-a-view-versus-a-copy\n",
      "  df_htsveh['category'][ind] = item2\n",
      "<ipython-input-3-c4a12723f067>:27: SettingWithCopyWarning: \n",
      "A value is trying to be set on a copy of a slice from a DataFrame\n",
      "\n",
      "See the caveats in the documentation: https://pandas.pydata.org/pandas-docs/stable/user_guide/indexing.html#returning-a-view-versus-a-copy\n",
      "  df_htsveh['category'][ind] = item2\n"
     ]
    }
   ],
   "source": [
    "for ind in df_htsveh.index:\n",
    "    if ind < 100000000000000000:\n",
    "        df_select = df_vehset[df_vehset['Make'].str.contains(df_htsveh['make'][ind])]\n",
    "        df_excesel = df_except[df_except['Make'].str.contains(df_htsveh['make'][ind])]\n",
    "        if not df_select.empty:\n",
    "            #print ('bbb', df_select)\n",
    "            try:\n",
    "                item = df_select[df_select['Model'].str.contains(df_htsveh['model'][ind])]['Category3'].to_list()[0]\n",
    "                df_htsveh['category'][ind] = item\n",
    "            except:\n",
    "                #print ('a1', df_htsveh['model'][ind])\n",
    "                for j in df_select.index:\n",
    "                    if df_select['Model'][j] in df_htsveh['model'][ind]:\n",
    "                        #print ('a2', ind, df_select['Model'][j], df_htsveh['model'][ind], df_select['Category3'][j])\n",
    "                        df_htsveh['category'][ind] = df_select['Category3'][j]\n",
    "                        continue            \n",
    "                if  df_htsveh['category'][ind] == \"\" and not df_excesel.empty:\n",
    "                    try:\n",
    "                        item2 = df_excesel[df_excesel['Model'].str.contains(df_htsveh['model'][ind])]['Category3'].to_list()[0]\n",
    "                        df_htsveh['category'][ind] = item2\n",
    "                    except:\n",
    "                        continue\n",
    "        else:\n",
    "            if  df_htsveh['category'][ind] == \"\" and not df_excesel.empty:\n",
    "                try:\n",
    "                    item2 = df_excesel[df_excesel['Model'].str.contains(df_htsveh['model'][ind])]['Category3'].to_list()[0]\n",
    "                    df_htsveh['category'][ind] = item2\n",
    "                except:\n",
    "                    continue\n",
    "df_hh = pd.read_csv(_join(toolpath, 'SDRTS_Household_Data_20170731 TAZ(2016HTS).csv'))\n",
    "df_hh = df_hh[['hhid', 'hh_final_weight_456x', 'home_address_TAZ']]\n",
    "df_htsvehf = df_htsveh.merge(df_hh, on = ['hhid'], how = 'inner')\n",
    "df_geo = pd.read_csv(_join(target_path, 'defs\\geo.csv'))\n",
    "df_geo = df_geo[['Azone', 'Bzone']]\n",
    "df_geo.rename(columns={'Bzone':'home_address_TAZ'}, inplace=True)  \n",
    "df_htsvehf = df_htsvehf.merge(df_geo, on = ['home_address_TAZ'], how = 'inner')\n",
    "df_htsvehf = df_htsvehf[df_htsvehf.category != \"\"]\n",
    "df_group =  df_htsvehf.groupby(['category', 'Azone'])['hh_final_weight_456x'].sum().reset_index(name ='Sum')\n",
    "df=df_group.pivot_table(index='Azone', columns='category', values='Sum').reset_index().rename_axis(None, axis=1)\n",
    "df[scenario_list[0][0]] = df['light truck'] / (df['car'] + df['light truck'])\n",
    "df = df[['Azone', scenario_list[0][0]]]\n",
    "growth = 0.45/0.34\n",
    "df[scenario_list[1][0]] = df[scenario_list[0][0]]/growth\n",
    "df = pd.melt(df, id_vars=['Azone'])\n",
    "df.rename(columns={'Azone':'Geo','variable':'Year','value':'LtTrkProp'}, inplace=True) \n",
    "df.to_csv(_join(target_path, 'inputs\\\\azone_hh_lttrk_prop.csv'), index = False) "
   ]
  },
  {
   "cell_type": "code",
   "execution_count": null,
   "metadata": {},
   "outputs": [],
   "source": []
  },
  {
   "cell_type": "code",
   "execution_count": null,
   "metadata": {},
   "outputs": [],
   "source": []
  },
  {
   "cell_type": "code",
   "execution_count": null,
   "metadata": {},
   "outputs": [],
   "source": []
  },
  {
   "cell_type": "code",
   "execution_count": 112,
   "metadata": {},
   "outputs": [],
   "source": [
    "df_htsveh.to_csv(_join(toolpath, 'Vehicle_Data.csv'), index = False)"
   ]
  }
 ],
 "metadata": {
  "kernelspec": {
   "display_name": "Python 3",
   "language": "python",
   "name": "python3"
  },
  "language_info": {
   "codemirror_mode": {
    "name": "ipython",
    "version": 3
   },
   "file_extension": ".py",
   "mimetype": "text/x-python",
   "name": "python",
   "nbconvert_exporter": "python",
   "pygments_lexer": "ipython3",
   "version": "3.8.5"
  }
 },
 "nbformat": 4,
 "nbformat_minor": 4
}
