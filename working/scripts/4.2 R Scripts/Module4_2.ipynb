{
 "cells": [
  {
   "cell_type": "markdown",
   "metadata": {},
   "source": [
    "# This module read car ownership from the ABM scenario output and write into \\AMB\\CreateHousehold_household.csv"
   ]
  },
  {
   "cell_type": "code",
   "execution_count": 6,
   "metadata": {},
   "outputs": [],
   "source": [
    "import os\n",
    "import yaml\n",
    "import pandas as pd\n",
    "_join = os.path.join\n",
    "\n",
    "CONFIG = r'T:/ABM/ABM_FY21/Sketch_Planning/VisionEval/Model/Update_Automations/settings.yml'\n",
    "with open(CONFIG) as cff:\n",
    "    config =yaml.safe_load(cff)\n",
    "target_path = ''.join(config['target_path'])\n",
    "scenpath = ''.join(config['scenpath'])\n",
    "scenario_list = config['scenario_list']"
   ]
  },
  {
   "cell_type": "code",
   "execution_count": null,
   "metadata": {},
   "outputs": [],
   "source": [
    "#4.2 Assign Vehicle Ownership"
   ]
  },
  {
   "cell_type": "code",
   "execution_count": 5,
   "metadata": {},
   "outputs": [],
   "source": [
    "df = pd.DataFrame(columns = ['HhId', 'Vehicles', 'Year'])\n",
    "for year, scenario in scenario_list:\n",
    "    df_hh = pd.read_csv(_join(scenpath, scenario, 'output\\householdData_3.csv'))\n",
    "    df_hh = df_hh[['hh_id', 'autos']]\n",
    "    df_hh. rename(columns={'hh_id':'HhId', 'autos':'Vehicles' }, inplace=True) \n",
    "    df_hh['Year'] = year\n",
    "    df = pd.concat([df, df_hh])\n",
    "df_hhout = pd.read_csv(_join(target_path, 'ABM\\CreateHousehold_household.csv')) \n",
    "df_hhout = df_hhout.merge(df, on=['HhId', 'Year'], how = 'inner')        \n",
    "df_hhout.to_csv(_join(target_path, 'ABM\\CreateHousehold_household.csv')) "
   ]
  },
  {
   "cell_type": "code",
   "execution_count": null,
   "metadata": {},
   "outputs": [],
   "source": []
  },
  {
   "cell_type": "code",
   "execution_count": null,
   "metadata": {},
   "outputs": [],
   "source": []
  },
  {
   "cell_type": "code",
   "execution_count": null,
   "metadata": {},
   "outputs": [],
   "source": []
  },
  {
   "cell_type": "code",
   "execution_count": null,
   "metadata": {},
   "outputs": [],
   "source": []
  },
  {
   "cell_type": "code",
   "execution_count": null,
   "metadata": {},
   "outputs": [],
   "source": [
    "# 4.1 Assign Driver"
   ]
  },
  {
   "cell_type": "code",
   "execution_count": 2,
   "metadata": {},
   "outputs": [],
   "source": [
    "df_driver = pd.read_csv(r'M:\\RES\\Surveys and Studies\\Completed Projects\\Modeling\\Travel Behavior\\2016 Household Travel Behavior Survey\\Deliverables\\Task 7-Weighting and Data\\Final Data\\Main Study Data\\SDRTS_Person_Data_20170731.csv')"
   ]
  },
  {
   "cell_type": "code",
   "execution_count": 3,
   "metadata": {},
   "outputs": [],
   "source": [
    "df_driver = df_driver[['age', 'license', 'hh_final_weight_456x']]\n"
   ]
  },
  {
   "cell_type": "code",
   "execution_count": null,
   "metadata": {},
   "outputs": [],
   "source": [
    "df_driver['age_bin'] = '15-19'\n",
    "vc_bin = ['15-19', '20-29', '30-54', '15-19', '15-19']    \n",
    "for i in range(len(vc_bin)):\n",
    "    if i == len(vc_bin) - 1:\n",
    "        break\n",
    "    if i == len(vc_bin) - 2:\n",
    "        df_hwy['vc'][(df_hwy[\\\"VOC\\\"] > vc_bin[i])] = vc_bin[i+1]\n",
    "    else:\n",
    "        df_hwy['vc'][(df_hwy[\\\"VOC\\\"] > vc_bin[i]) & (df_hwy[\\\"VOC\\\"] <= vc_bin[i+1])] = vc_bin[i+1]"
   ]
  }
 ],
 "metadata": {
  "kernelspec": {
   "display_name": "Python 3",
   "language": "python",
   "name": "python3"
  },
  "language_info": {
   "codemirror_mode": {
    "name": "ipython",
    "version": 3
   },
   "file_extension": ".py",
   "mimetype": "text/x-python",
   "name": "python",
   "nbconvert_exporter": "python",
   "pygments_lexer": "ipython3",
   "version": "3.8.5"
  }
 },
 "nbformat": 4,
 "nbformat_minor": 4
}
