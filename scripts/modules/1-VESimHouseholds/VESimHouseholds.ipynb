{
 "cells": [
  {
   "cell_type": "code",
   "execution_count": null,
   "id": "a6c79923",
   "metadata": {},
   "outputs": [],
   "source": [
    "import pandas as pd\n",
    "import numpy as np\n",
    "import os\n",
    "import os.path\n",
    "from os.path import join"
   ]
  },
  {
   "cell_type": "code",
   "execution_count": null,
   "id": "2d11144c",
   "metadata": {},
   "outputs": [],
   "source": [
    "df_ref = pd.read_csv(r'T:\\ABM\\ABM_FY22\\RSM\\VisionEval\\Model\\Update_Automations\\SrcOnSanVE\\geo\\mgra13_city_xref.csv')\n",
    "azone_ref = df_ref[['mgra','City']]\n",
    "azone_sorter = [12,19,18,7,15,1,14,6,13,17,4,16,5,9,10,3,11,2,8]"
   ]
  },
  {
   "cell_type": "code",
   "execution_count": null,
   "id": "8e810169",
   "metadata": {},
   "outputs": [],
   "source": [
    "def azone_hhsize_targets (azone_ref):\n",
    "    azone_ref.columns = ['mgra', 'Geo']\n",
    "    input_path = r\"T:\\RTP\\2021RP\\2021rp_draft_v2\\abm_runs\"\n",
    "    years = ['2016', '2035build']\n",
    "    data = []\n",
    "    for year in years:\n",
    "        hh = pd.read_csv(os.path.join(input_path, year, 'input','households.csv'),\n",
    "                       usecols = [\"hhid\", #Unique Housheold ID\n",
    "                                 \"mgra\", #MGRA of household\n",
    "                                 \"persons\", #Number of persons in household\n",
    "                                 \"unittype\"]) #household unit type (0 = non-GQ household)\n",
    "        hh = hh[hh['unittype'] == 0] #non-group quarters households\n",
    "        hh = hh.merge(azone_ref, on = 'mgra', how = \"left\")\n",
    "        df = pd.DataFrame(hh.groupby('Geo')['persons'].mean()).reset_index()\n",
    "        df['1phh'] =pd.DataFrame(hh[hh['persons'] == 1].groupby('Geo')['hhid'].count()).reset_index()[['hhid']]\n",
    "        df['allhh'] =pd.DataFrame(hh.groupby('Geo')['hhid'].count()).reset_index()[['hhid']]\n",
    "        df['Prop1PerHh'] = df['1phh']/df['allhh']\n",
    "        df.Geo = df.Geo.astype(\"category\")\n",
    "        df.Geo.cat.set_categories(azone_sorter, inplace=True)\n",
    "        df = df.sort_values([\"Geo\"])\n",
    "        df['Year'] = year[:4]\n",
    "        data.append(df)\n",
    "    df_final = pd.concat(data)\n",
    "    df_final = df_final.rename({'persons':'AveHhSize'}, axis=1)\n",
    "    df_final = df_final[['Geo','Year','AveHhSize','Prop1PerHh']]\n",
    "    df_final.to_csv('azone_hhsize_targets.csv', index=False)"
   ]
  },
  {
   "cell_type": "code",
   "execution_count": null,
   "id": "4da72264",
   "metadata": {},
   "outputs": [],
   "source": [
    "def azone_per_cap_inc (azone_ref):\n",
    "    azone_ref.columns = ['mgra', 'Geo']\n",
    "    input_path = r\"T:\\RTP\\2021RP\\2021rp_draft_v2\\abm_runs\"\n",
    "    years = ['2016', '2035build']\n",
    "    data = []\n",
    "    for year in years:\n",
    "        hh = pd.read_csv(os.path.join(input_path, year, 'input','households.csv'),\n",
    "                       usecols = [\"mgra\", #MGRA of household\n",
    "                                 \"hinc\", #Household income\n",
    "                                 \"persons\", #Number of persons in household\n",
    "                                 \"unittype\"]) #household unit type (0 = non-GQ household)\n",
    "        hh = hh.merge(azone_ref, on = 'mgra', how = \"left\")\n",
    "        hh['hinc_perCap'] = hh['hinc']/hh['persons']\n",
    "        df1 =pd.DataFrame(hh[hh['unittype'] == 0].groupby('Geo')['hinc_perCap'].mean()).reset_index()\n",
    "        df2 =pd.DataFrame(hh[hh['unittype'] == 1].groupby('Geo')['hinc_perCap'].mean()).reset_index()\n",
    "        df = df1.merge(df2, on = \"Geo\", how = \"left\")\n",
    "        df.Geo = df.Geo.astype(\"category\")\n",
    "        df.Geo.cat.set_categories(azone_sorter, inplace=True)\n",
    "        df = df.sort_values([\"Geo\"])\n",
    "        df['Year'] = year[:4]\n",
    "        data.append(df)\n",
    "    df_final = pd.concat(data)\n",
    "    df_final = df_final.rename({'hinc_perCap_x': 'HHIncomePC.2010', 'hinc_perCap_y':'GQIncomePC.2010'}, axis=1)\n",
    "    df_final['GQIncomePC.2010'] = df_final['GQIncomePC.2010'].fillna(0)\n",
    "    df_final = df_final[['Geo','Year','HHIncomePC.2010','GQIncomePC.2010']].sort_values(by=['Year','Geo'])\n",
    "    df_final.to_csv('azone_per_cap_inc.csv', index=False)"
   ]
  }
 ],
 "metadata": {
  "kernelspec": {
   "display_name": "Python 3 (ipykernel)",
   "language": "python",
   "name": "python3"
  },
  "language_info": {
   "codemirror_mode": {
    "name": "ipython",
    "version": 3
   },
   "file_extension": ".py",
   "mimetype": "text/x-python",
   "name": "python",
   "nbconvert_exporter": "python",
   "pygments_lexer": "ipython3",
   "version": "3.9.7"
  }
 },
 "nbformat": 4,
 "nbformat_minor": 5
}
