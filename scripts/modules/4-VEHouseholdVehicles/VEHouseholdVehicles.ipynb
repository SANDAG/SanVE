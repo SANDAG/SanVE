{
 "cells": [
  {
   "cell_type": "code",
   "execution_count": null,
   "id": "31e479c6",
   "metadata": {},
   "outputs": [],
   "source": [
    "import pandas as pd\n",
    "import numpy as np\n",
    "import os\n",
    "import os.path\n",
    "from os.path import join"
   ]
  },
  {
   "cell_type": "code",
   "execution_count": null,
   "id": "83d28b6e",
   "metadata": {},
   "outputs": [],
   "source": [
    "df_ref = pd.read_csv(r'T:\\ABM\\ABM_FY22\\RSM\\VisionEval\\Model\\Update_Automations\\SrcOnSanVE\\geo\\mgra13_city_xref.csv')\n",
    "azone_ref = df_ref[['mgra','City']]\n",
    "azone_sorter = [12,19,18,7,15,1,14,6,13,17,4,16,5,9,10,3,11,2,8]"
   ]
  },
  {
   "cell_type": "code",
   "execution_count": null,
   "id": "5fb2d41f",
   "metadata": {},
   "outputs": [],
   "source": [
    "def createvehicletable_azone (azone_ref):\n",
    "    azone_ref.columns = ['mgra', 'Geo']\n",
    "    years = ['2016', '2035build']\n",
    "    data = []\n",
    "    for year in years:\n",
    "        df = azone_ref[['Geo']].drop_duplicates()\n",
    "        df.Geo = df.Geo.astype(\"category\")\n",
    "        df.Geo.cat.set_categories(azone_sorter, inplace=True)\n",
    "        df = df.sort_values([\"Geo\"])\n",
    "        df['Year'] = year[:4]\n",
    "        df['HighCarSvcCost.2010'] = 2.25\n",
    "        df['LowCarSvcCost.2010'] = 6.76\n",
    "        if year[:4] == '2016':\n",
    "            df['AveCarSvcVehicleAge'] = 3\n",
    "        if year[:4] == '2035':\n",
    "            df['AveCarSvcVehicleAge'] = 2\n",
    "        df['LtTrkCarSvcSubProp'] = 0.75\n",
    "        df['AutoCarSvcSubProp'] = 1\n",
    "        data.append(df)\n",
    "    df_final = pd.concat(data)\n",
    "    df_final = df_final[['Geo','Year','HighCarSvcCost.2010','LowCarSvcCost.2010','AveCarSvcVehicleAge','LtTrkCarSvcSubProp','AutoCarSvcSubProp']].sort_values(by=['Year','Geo'])\n",
    "    df_final.to_csv('azone_carsvc_characteristics.csv', index=False)"
   ]
  }
 ],
 "metadata": {
  "kernelspec": {
   "display_name": "Python 3 (ipykernel)",
   "language": "python",
   "name": "python3"
  },
  "language_info": {
   "codemirror_mode": {
    "name": "ipython",
    "version": 3
   },
   "file_extension": ".py",
   "mimetype": "text/x-python",
   "name": "python",
   "nbconvert_exporter": "python",
   "pygments_lexer": "ipython3",
   "version": "3.9.7"
  }
 },
 "nbformat": 4,
 "nbformat_minor": 5
}
