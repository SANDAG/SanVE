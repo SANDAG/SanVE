{
 "cells": [
  {
   "cell_type": "code",
   "execution_count": null,
   "id": "38dcf59b",
   "metadata": {},
   "outputs": [],
   "source": [
    "import pandas as pd\n",
    "import numpy as np\n",
    "import os\n",
    "import os.path\n",
    "from os.path import join"
   ]
  },
  {
   "cell_type": "code",
   "execution_count": null,
   "id": "58428e9d",
   "metadata": {},
   "outputs": [],
   "source": [
    "df_ref = pd.read_csv(r'T:\\ABM\\ABM_FY22\\RSM\\VisionEval\\Model\\Update_Automations\\SrcOnSanVE\\geo\\geo.csv')\n",
    "bzone_ref = df_ref[['Bzone','Marea']]"
   ]
  },
  {
   "cell_type": "code",
   "execution_count": null,
   "id": "ed201a4d",
   "metadata": {},
   "outputs": [],
   "source": [
    "def assignTransitService_marea (bzone_ref):\n",
    "    bzone_ref.columns = ['taz', 'Marea']\n",
    "    input_path = r\"T:\\ABM\\ABM_FY22\\RSM\\VisionEval\\Model\\Update_Automations\\SrcOnSanVE\\modules\\VETransportSupply\\data\" \n",
    "    years = ['2016', '2035build']\n",
    "    data = []\n",
    "    for year in years:\n",
    "        stop = pd.read_csv(os.path.join(input_path, year, 'routeMarea.csv'))\n",
    "        VMT = pd.read_csv(os.path.join(input_path, year, 'transitVMT.csv'))\n",
    "        stop = stop.merge(bzone_ref, right_on = \"taz\", left_on = \"ZONE\", how = \"left\")\n",
    "        route_list = list(stop.Route.unique())\n",
    "        VMT_route = VMT.loc[VMT['route'].isin(route_list)]\n",
    "        #convert daily to annual VMT\n",
    "        if year[:4] == '2016':\n",
    "            VMT_route['Avmt'] = VMT_route['vmt'] * 261 + VMT_route['vmt'] * 0.5 * 105\n",
    "        if year[:4] == '2035':\n",
    "            VMT_route['Avmt'] = VMT_route['vmt'] * 261 + VMT_route['vmt'] * 0.5 * 104\n",
    "        \n",
    "        conditions = [(VMT_route['mode'].isin(['Arterial Rapid','Express Bus','Freeway Rapid', 'Premium Express Bus'])),\n",
    "                    (VMT_route['mode'] == 'Commuter Rail'),\n",
    "                    (VMT_route['mode'] == 'Light Rail'),\n",
    "                    (VMT_route['mode'] == 'Local Bus'),\n",
    "                    (VMT_route['mode'] == 'Commuter heavy rail')]\n",
    "        choices = ['RBRevMi', 'CRRevMi', 'SRRevMi', 'MBRevMi', 'HRRevMi']\n",
    "        VMT_route['VE'] = np.select(conditions, choices, default=np.nan)\n",
    "        df = VMT_route.pivot_table(values='Avmt', columns='VE', aggfunc = np.sum).reset_index()\n",
    "        if year[:4] == '2016':\n",
    "            df['HRRevMi'] = 0\n",
    "        df['Year'] = year[:4]\n",
    "        data.append(df)\n",
    "    df_final = pd.concat(data)\n",
    "    #add DR, VP and MG with 0 mile\n",
    "    df_final['DRRevMi'] = 0\n",
    "    df_final['VPRevMi'] = 0\n",
    "    df_final['MGRevMi'] = 0\n",
    "    df_final['Geo'] = 'SD-Urban-TransitService'\n",
    "    df_final = df_final[['Geo', 'Year', 'DRRevMi', 'MBRevMi', 'RBRevMi', 'VPRevMi', 'MGRevMi', 'SRRevMi', 'HRRevMi', 'CRRevMi']]\n",
    "    df_final.to_csv('marea_transit_service.csv', index=False)"
   ]
  },
  {
   "cell_type": "code",
   "execution_count": null,
   "id": "677fb1a1",
   "metadata": {},
   "outputs": [],
   "source": [
    "def assignTransitService_bzone (bzone_ref):\n",
    "    bzone_ref.columns = ['taz', 'Marea']\n",
    "    input_path = r\"T:\\ABM\\ABM_FY22\\RSM\\VisionEval\\Model\\Update_Automations\\SrcOnSanVE\\modules\\VETransportSupply\\data\" \n",
    "    years = ['2016', '2035build']\n",
    "    data = []\n",
    "    for year in years:\n",
    "        stop = pd.read_csv(os.path.join(input_path, year, 'routeMarea.csv'))\n",
    "        trrt = pd.read_csv(os.path.join(input_path, year, 'trrt.csv'))\n",
    "        trrt['PM_fre'] = 0\n",
    "        trrt.loc[trrt['PM_Headway'] != 0, 'PM_fre'] = 1/(trrt['PM_Headway']/60)\n",
    "        stop = stop.merge(trrt, on = \"Route_Name\", how = \"left\")\n",
    "        \n",
    "        df = stop.pivot_table(values='PM_fre', index='ZONE', aggfunc = np.sum).reset_index()      \n",
    "        df2 = bzone_ref.merge(df, right_on = \"ZONE\", left_on = \"taz\", how = \"left\")\n",
    "        df2 = df2.fillna(0)\n",
    "        df2['Year'] = year[:4]\n",
    "        data.append(df2)\n",
    "    df_final = pd.concat(data)\n",
    "    df_final = df_final.rename({'taz': 'Geo', 'PM_fre': 'D4c'}, axis=1)\n",
    "    df_final = df_final[['Geo', 'Year', 'D4c']]\n",
    "    df_final.to_csv('bzone_transit_service.csv', index=False)"
   ]
  }
 ],
 "metadata": {
  "kernelspec": {
   "display_name": "Python 3 (ipykernel)",
   "language": "python",
   "name": "python3"
  },
  "language_info": {
   "codemirror_mode": {
    "name": "ipython",
    "version": 3
   },
   "file_extension": ".py",
   "mimetype": "text/x-python",
   "name": "python",
   "nbconvert_exporter": "python",
   "pygments_lexer": "ipython3",
   "version": "3.9.7"
  }
 },
 "nbformat": 4,
 "nbformat_minor": 5
}
