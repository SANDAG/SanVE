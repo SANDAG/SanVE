{
 "cells": [
  {
   "cell_type": "code",
   "execution_count": null,
   "metadata": {},
   "outputs": [],
   "source": [
    "\"\"\"\n",
    "Created on Thu Oct 3 11:19:21 2021\n",
    "@author: cliu\n",
    "\"\"\"\n",
    "import os\n",
    "import yaml\n",
    "import pandas as pd\n",
    "import numpy as np\n",
    "from datetime import date\n",
    "from os import listdir\n",
    "from os.path import isfile\n",
    "\n",
    "_join = os.path.join\n",
    "toolpath = os.getcwd()\n",
    "\n",
    "CONFIG = r'T:/ABM/ABM_FY22/RSM/VisionEval/Model/Update_Automations/settings.yml'\n",
    "with open(CONFIG) as cff:\n",
    "    config =yaml.safe_load(cff)\n",
    "target_path = ''.join(config['target_path'])\n",
    "scenpath = ''.join(config['scenpath'])\n",
    "scenario_list = config['scenario_list']\n",
    "azone_electricity_carbon_intensity = config['azone_electricity_carbon_intensity']\n",
    "Marea = config['Marea']\n",
    "AzoneCount = config['AzoneCount']\n",
    "VehOwnFlatRateFee = config['VehOwnFlatRateFee.2015']\n",
    "VehOwnAdValoremTax = config['VehOwnAdValoremTax']\n",
    "PaydHhProp = config['PaydHhProp']\n",
    "AveComSvcVehicleAge = config['AveComSvcVehicleAge']\n",
    "ComSvcPow = config['ComSvcPow']\n",
    "hvytrk_powertrain_prop = config['hvytrk_powertrain_prop']\n",
    "PropChargingAvail = config['PropChargingAvail']\n",
    "\n",
    "df_geo = pd.read_csv(_join(target_path, 'defs\\geo.csv'))\n",
    "df_geo = df_geo[['Azone', 'Bzone']]\n",
    "df_geo.rename(columns={'Bzone':'taz'}, inplace=True) "
   ]
  },
  {
   "cell_type": "code",
   "execution_count": null,
   "metadata": {},
   "outputs": [],
   "source": [
    "# Initialize-vepowertrainsandfuels/6.1 CalculateCarbonIntensity - azone_electricity_carbon_intensity.csv¶\n",
    "\n",
    "# azone_electricity_carbon_intensity.csv\n",
    "df_carbon = pd.read_csv(_join(target_path, r'inputs\\azone_electricity_carbon_intensity.csv'))\n",
    "for i in range(len(azone_electricity_carbon_intensity)):\n",
    "    df_carbon.loc[df_carbon['Year'] == scenario_list[i][0] , 'ElectricityCI'] = int(azone_electricity_carbon_intensity[i])\n",
    "df_carbon['ElectricityCI'] = df_carbon['ElectricityCI'].astype('int64')\n",
    "df_carbon.to_csv(_join(target_path, r'inputs\\azone_electricity_carbon_intensity.csv'), index = False) "
   ]
  },
  {
   "cell_type": "code",
   "execution_count": null,
   "metadata": {},
   "outputs": [],
   "source": [
    "6.2 Assign Household Vehicle Powertrains - region_carsvc_powertrain_prop.csv"
   ]
  },
  {
   "cell_type": "code",
   "execution_count": null,
   "metadata": {},
   "outputs": [],
   "source": [
    "# region_carsvc_powertrain_prop.csv\n",
    "df_ori = pd.read_csv(_join(toolpath, r'region_carsvc_powertrain_prop.csv'))\n",
    "i = 0\n",
    "for year, scenario in scenario_list:\n",
    "    df_ori['Year'][i] = year\n",
    "    i += 1\n",
    "df_ori.to_csv(_join(target_path, r'inputs\\region_carsvc_powertrain_prop.csv'), index = False) "
   ]
  },
  {
   "cell_type": "code",
   "execution_count": null,
   "metadata": {},
   "outputs": [],
   "source": [
    "# azone_charging_availability.csv\n",
    "base_year = scenario_list[0][0]\n",
    "i = 0\n",
    "for year, scenario in scenario_list:\n",
    "    df_mgra = pd.read_csv(_join(scenpath, scenario, 'input\\mgra13_based_input' + str(year) + '.csv'))\n",
    "    df_mgra = df_mgra[['taz','hh_sf','hh_mf','refueling_stations']]\n",
    "    df_mgra = df_mgra.merge(df_geo, on=['taz'], how = 'inner') \n",
    "    df_AzoneGro = df_mgra.groupby(['Azone'])['hh_sf', 'hh_mf', 'refueling_stations'].sum().reset_index()\n",
    "    max_value = df_AzoneGro['refueling_stations'].max()\n",
    "    \n",
    "    df_AzoneGro['PropSFChargingAvail'] = PropChargingAvail [i][0]\n",
    "    df_AzoneGro['PropMFChargingAvail'] = PropChargingAvail [i][1]   \n",
    "    df_AzoneGro['PropGQChargingAvail'] = PropChargingAvail [i][2]\n",
    "    df_AzoneGro.insert(loc=1, column='Year', value = year)\n",
    "    df_AzoneGro.rename(columns={'Azone':'Geo'}, inplace=True)  \n",
    "    df_AzoneGro=df_AzoneGro.drop(['hh_sf', 'hh_mf', 'refueling_stations'], axis=1)    \n",
    "    \n",
    "    if year == base_year:\n",
    "            df_AzoneGro.to_csv(_join(target_path,r'inputs\\azone_charging_availability.csv'), mode='w', header = True, index = False)\n",
    "    else:\n",
    "        df_AzoneGro.to_csv(_join(target_path,r'inputs\\azone_charging_availability.csv'), mode='a', header = False, index = False)\n",
    "    i += 1 "
   ]
  },
  {
   "cell_type": "code",
   "execution_count": null,
   "metadata": {},
   "outputs": [],
   "source": []
  },
  {
   "cell_type": "code",
   "execution_count": null,
   "metadata": {},
   "outputs": [],
   "source": []
  },
  {
   "cell_type": "code",
   "execution_count": null,
   "metadata": {},
   "outputs": [],
   "source": []
  },
  {
   "cell_type": "code",
   "execution_count": null,
   "metadata": {},
   "outputs": [],
   "source": []
  }
 ],
 "metadata": {
  "kernelspec": {
   "display_name": "Python 3",
   "language": "python",
   "name": "python3"
  },
  "language_info": {
   "codemirror_mode": {
    "name": "ipython",
    "version": 3
   },
   "file_extension": ".py",
   "mimetype": "text/x-python",
   "name": "python",
   "nbconvert_exporter": "python",
   "pygments_lexer": "ipython3",
   "version": "3.8.5"
  }
 },
 "nbformat": 4,
 "nbformat_minor": 4
}
